{
 "cells": [
  {
   "cell_type": "code",
   "execution_count": 1,
   "metadata": {},
   "outputs": [],
   "source": [
    "import pandas"
   ]
  },
  {
   "cell_type": "code",
   "execution_count": 3,
   "metadata": {},
   "outputs": [
    {
     "name": "stdout",
     "output_type": "stream",
     "text": [
      "   id             nazev_cz                     nazev_en    trida_cz  cena  \\\n",
      "0   7          Šváb syčivý  Madagascar giant cockroach   Bezobratlí  1000   \n",
      "1   8  Pakobylka okřídlená     Pink-winged stick insect  Bezobratlí  1000   \n",
      "2  16                Tayra                        Tayra       Savci  5000   \n",
      "3  35        Kajmanka supí    Alligator snapping turtle       Plazi  2000   \n",
      "4  37      Želva žlutočelá       Indochinese box turtle       Plazi  1000   \n",
      "\n",
      "   k_prohlidce  \n",
      "0            1  \n",
      "1            1  \n",
      "2            1  \n",
      "3            1  \n",
      "4            1  \n"
     ]
    }
   ],
   "source": [
    "adopce =  pandas.read_csv('adopce-zvirat.csv', sep=';')\n",
    "print(adopce.head())"
   ]
  },
  {
   "cell_type": "code",
   "execution_count": 4,
   "metadata": {},
   "outputs": [
    {
     "name": "stdout",
     "output_type": "stream",
     "text": [
      "Tabulka ma 513 radku a 6 sloupcu.\n",
      "Jmena sloupcu: ['id', 'nazev_cz', 'nazev_en', 'trida_cz', 'cena', 'k_prohlidce']\n"
     ]
    }
   ],
   "source": [
    "# Zjisteni poctu radku a sloupcu\n",
    "pocet_radku, pocet_sloupcu = adopce.shape\n",
    "\n",
    "# Zjisteni jmen sloupcu\n",
    "jmena_sloupcu = adopce.columns.tolist()\n",
    "\n",
    "# Vypis vysledku\n",
    "print(f\"Tabulka ma {pocet_radku} radku a {pocet_sloupcu} sloupcu.\")\n",
    "print(\"Jmena sloupcu:\", jmena_sloupcu)"
   ]
  },
  {
   "cell_type": "code",
   "execution_count": 5,
   "metadata": {},
   "outputs": [
    {
     "name": "stdout",
     "output_type": "stream",
     "text": [
      "Zvíře na záznamu s indexem 34 (v češtině): Ibis bílý\n",
      "Zvíře na záznamu s indexem 34 (v angličtině): White ibis\n"
     ]
    }
   ],
   "source": [
    "# Zjisteni zvirete na zaznamu s indexem 34\n",
    "zvire_na_indexu_34_cz = adopce.loc[34, 'nazev_cz']\n",
    "zvire_na_indexu_34_en = adopce.loc[34, 'nazev_en']\n",
    "# Vypis vysledku\n",
    "print(f\"Zvíře na záznamu s indexem 34 (v češtině): {zvire_na_indexu_34_cz}\")\n",
    "print(f\"Zvíře na záznamu s indexem 34 (v angličtině): {zvire_na_indexu_34_en}\")"
   ]
  }
 ],
 "metadata": {
  "kernelspec": {
   "display_name": "Python 3",
   "language": "python",
   "name": "python3"
  },
  "language_info": {
   "codemirror_mode": {
    "name": "ipython",
    "version": 3
   },
   "file_extension": ".py",
   "mimetype": "text/x-python",
   "name": "python",
   "nbconvert_exporter": "python",
   "pygments_lexer": "ipython3",
   "version": "3.11.5"
  },
  "orig_nbformat": 4
 },
 "nbformat": 4,
 "nbformat_minor": 2
}
